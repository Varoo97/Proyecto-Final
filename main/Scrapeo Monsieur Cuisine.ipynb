{
 "cells": [
  {
   "cell_type": "markdown",
   "id": "ff82e824",
   "metadata": {},
   "source": [
    "# PROYECTO FINAL"
   ]
  },
  {
   "cell_type": "markdown",
   "id": "3b8f94ce",
   "metadata": {},
   "source": [
    "### Importamos las librerias"
   ]
  },
  {
   "cell_type": "code",
   "execution_count": 1,
   "id": "fe986736",
   "metadata": {},
   "outputs": [],
   "source": [
    "import requests as req\n",
    "from bs4 import BeautifulSoup as bs \n",
    "from selenium import webdriver\n",
    "import pandas as pd\n",
    "import numpy as np\n",
    "from webdriver_manager.chrome import ChromeDriverManager\n",
    "import time\n",
    "from selenium.webdriver.common.by import By\n",
    "from tqdm.notebook import tqdm\n",
    "from joblib import Parallel, delayed\n",
    "import mysql.connector as conn\n"
   ]
  },
  {
   "cell_type": "code",
   "execution_count": 2,
   "id": "61bafe41",
   "metadata": {},
   "outputs": [],
   "source": [
    "from selenium.webdriver.chrome.options import Options\n",
    "opciones=Options()\n",
    "# quita la bandera de ser robot\n",
    "opciones.add_experimental_option('excludeSwitches', ['enable-automation'])\n",
    "opciones.add_experimental_option('useAutomationExtension', False)\n",
    "opciones.headless=False   # si True, no aparece la ventana (headless=no visible)\n",
    "opciones.add_argument('--start-maximized')         # comienza maximizado\n",
    "#opciones.add_argument('--incognito')              # incognito"
   ]
  },
  {
   "cell_type": "markdown",
   "id": "219593f1",
   "metadata": {},
   "source": [
    "### Scrapeamos la pagina web 'Monsieur Cuisine' , para sacar todas sus recetas con sus respectivos ingredientes"
   ]
  },
  {
   "cell_type": "code",
   "execution_count": null,
   "id": "ed084a5b",
   "metadata": {},
   "outputs": [
    {
     "name": "stderr",
     "output_type": "stream",
     "text": [
      "[WDM] - Downloading:  59%|█████████████████████████████████▌                       | 3.88M/6.58M [00:04<00:02, 985kB/s]"
     ]
    }
   ],
   "source": [
    "from webdriver_manager.chrome import ChromeDriverManager\n",
    "PATH=ChromeDriverManager().install()\n",
    "URL='https://fr.monsieur-cuisine.com/es/filtros'\n",
    "driver=webdriver.Chrome(PATH, options=opciones)\n",
    "driver.get(URL)\n",
    "time.sleep(5)\n",
    "try:\n",
    "    texto=driver.find_element(By.XPATH, '//*[@id=\"CybotCookiebotDialog\"]/div/div[1]/button[1]') #aceptamos cookies\n",
    "    texto.click()\n",
    "    time.sleep(5)\n",
    "except:\n",
    "    pass\n",
    "\n"
   ]
  },
  {
   "cell_type": "markdown",
   "id": "c2c4f5f2",
   "metadata": {},
   "source": [
    "### Scrapeamos la pagina principal para poder sacar todos los títulos de recetas y poder sacar así los links de cada una de ellas"
   ]
  },
  {
   "cell_type": "code",
   "execution_count": null,
   "id": "b484bd38",
   "metadata": {},
   "outputs": [],
   "source": [
    "nom_tit=[]\n",
    "for e in driver.find_elements(By.XPATH, '//*[@id=\"app\"]/div/main/div/div[2]/div/div/div[1]/div/div/div/div'):\n",
    "    for x in e.find_elements(By.CLASS_NAME, 'v-card__title'):\n",
    "        nom_tit.append(x.text)\n",
    "\n"
   ]
  },
  {
   "cell_type": "code",
   "execution_count": null,
   "id": "7abe076a",
   "metadata": {},
   "outputs": [],
   "source": [
    "nom_tit"
   ]
  },
  {
   "cell_type": "code",
   "execution_count": null,
   "id": "72ccc140",
   "metadata": {},
   "outputs": [],
   "source": [
    "link_recetas=[]\n",
    "replacements = (\n",
    "        (\"á\", \"a\"),\n",
    "        (\"é\", \"e\"),\n",
    "        (\"í\", \"i\"),\n",
    "        (\"ó\", \"o\"),\n",
    "        (\"ú\", \"u\"),\n",
    "        (\"ñ\", \"n\")\n",
    "    )\n",
    "for e in nom_tit:\n",
    "    for a,b in replacements:\n",
    "        e = e.lower().replace(' ', '-').replace('(', '').replace(')', '').replace(a,b)\n",
    "    link_recetas.append(f'https://fr.monsieur-cuisine.com/es/recipe/{e}')"
   ]
  },
  {
   "cell_type": "code",
   "execution_count": null,
   "id": "316c47f5",
   "metadata": {},
   "outputs": [],
   "source": [
    "len(link_recetas)"
   ]
  },
  {
   "cell_type": "markdown",
   "id": "e7b6044f",
   "metadata": {},
   "source": [
    "### Una vez tenemos los links de cada receta, generalizamos un proceso con Selenium para sacar la información que nos interesa para nuestra base de datos"
   ]
  },
  {
   "cell_type": "code",
   "execution_count": null,
   "id": "84f8ca90",
   "metadata": {},
   "outputs": [],
   "source": [
    "from webdriver_manager.chrome import ChromeDriverManager\n",
    "PATH=ChromeDriverManager().install()\n",
    "URL=link_recetas[10]\n",
    "driver=webdriver.Chrome(PATH, options=opciones)\n",
    "driver.get(URL)\n",
    "time.sleep(5)\n",
    "try:    \n",
    "    texto=driver.find_element(By.XPATH, r'//*[@id=\"CybotCookiebotDialog\"]/div/div[1]/button[1]') #aceptamos cookies\n",
    "    texto.click()\n",
    "    time.sleep(5)\n",
    "except:\n",
    "    pass\n",
    "\n"
   ]
  },
  {
   "cell_type": "code",
   "execution_count": null,
   "id": "1229cc7a",
   "metadata": {},
   "outputs": [],
   "source": [
    "titulo=driver.find_element(By.CLASS_NAME,'recipe-title').text        "
   ]
  },
  {
   "cell_type": "code",
   "execution_count": null,
   "id": "c18f4fcb",
   "metadata": {},
   "outputs": [],
   "source": [
    "#dificultad= driver.find_element(By.XPATH,'//*[@id=\"app\"]/div/main/div/div/div[1]/div[1]/div[2]/div/div[5]/span').text\n",
    "dificultad=driver.find_element(By.XPATH,'//*[@id=\"app\"]/div/main/div/div/div[1]/div[1]/div[2]/div/div[5]/span').text\n"
   ]
  },
  {
   "cell_type": "code",
   "execution_count": null,
   "id": "dee2b680",
   "metadata": {},
   "outputs": [],
   "source": [
    "duración=driver.find_element(By.XPATH,'//*[@id=\"app\"]/div/main/div/div/div[1]/div[1]/div[2]/div/div[4]/div[2]/span/span/span')\n"
   ]
  },
  {
   "cell_type": "code",
   "execution_count": null,
   "id": "edd1b695",
   "metadata": {},
   "outputs": [],
   "source": [
    "ingredientes=driver.find_element(By.XPATH, '//*[@id=\"app\"]/div/main/div/div/div[1]/div[2]/div[2]/div')\n"
   ]
  },
  {
   "cell_type": "code",
   "execution_count": null,
   "id": "c3feca68",
   "metadata": {},
   "outputs": [],
   "source": [
    "driver.quit()"
   ]
  },
  {
   "cell_type": "code",
   "execution_count": null,
   "id": "d982a3f3",
   "metadata": {},
   "outputs": [],
   "source": [
    "titulo"
   ]
  },
  {
   "cell_type": "code",
   "execution_count": null,
   "id": "b74cde96",
   "metadata": {},
   "outputs": [],
   "source": [
    "dificultad"
   ]
  },
  {
   "cell_type": "code",
   "execution_count": null,
   "id": "469cf023",
   "metadata": {},
   "outputs": [],
   "source": [
    "duración.text.strip()"
   ]
  },
  {
   "cell_type": "code",
   "execution_count": null,
   "id": "7033454a",
   "metadata": {},
   "outputs": [],
   "source": [
    "ingredientes.text.strip()"
   ]
  },
  {
   "cell_type": "code",
   "execution_count": null,
   "id": "2b269dfc",
   "metadata": {},
   "outputs": [],
   "source": [
    "for e in driver.find_elements(By.XPATH, '//*[@id=\"app\"]/div/main/div/div/div[1]/div[1]/div[2]/div/div[3]/div/p/span'):"
   ]
  },
  {
   "cell_type": "markdown",
   "id": "773c2d20",
   "metadata": {},
   "source": [
    "### Realizamos este proceso con cada una de las páginas"
   ]
  },
  {
   "cell_type": "code",
   "execution_count": null,
   "id": "10971fc0",
   "metadata": {},
   "outputs": [],
   "source": [
    "def recetas(URL):\n",
    "    #global titulos_lista\n",
    "    #global ingredientes_lista\n",
    "    #global dificultad_lista\n",
    "    #global duracion_lista\n",
    "    titulos_lista= []\n",
    "    ingredientes_lista = []\n",
    "    dificultad_lista = []\n",
    "    duracion_lista = []\n",
    "    #Titulo\n",
    "    PATH=ChromeDriverManager().install()\n",
    "    driver=webdriver.Chrome(PATH, options=opciones)\n",
    "    driver.get(URL)\n",
    "    time.sleep(5)\n",
    "    try:    \n",
    "        texto=driver.find_element(By.XPATH, '//*[@id=\"CybotCookiebotDialog\"]/div/div[1]/button[1]') #aceptamos cookies\n",
    "        texto.click()\n",
    "        time.sleep(5)\n",
    "    except:\n",
    "        pass\n",
    "    \n",
    "    time.sleep(12)\n",
    "    #titulo\n",
    "    titulo=driver.find_element(By.CLASS_NAME,'recipe-title')\n",
    "    titulos_lista.append(titulo.text.strip())\n",
    "    #dificultad\n",
    "    dificultad_lista.append(driver.find_element(By.XPATH,'//*[@id=\"app\"]/div/main/div/div/div[1]/div[1]/div[2]/div/div[5]/span').text)\n",
    "    #duracion\n",
    "    duracion=driver.find_element(By.XPATH,'//*[@id=\"app\"]/div/main/div/div/div[1]/div[1]/div[2]/div/div[4]/div[2]/span/span/span')\n",
    "    duracion_lista.append(duracion.text.strip())\n",
    "    #ingredientes\n",
    "    ingredientes=driver.find_element(By.XPATH, '//*[@id=\"app\"]/div/main/div/div/div[1]/div[2]/div[2]/div')\n",
    "    ingredientes_lista.append(ingredientes.text.strip())\n",
    "    \n",
    "    driver.quit()\n",
    "    \n",
    "    return titulos_lista, duracion_lista, dificultad_lista, ingredientes_lista \n"
   ]
  },
  {
   "cell_type": "code",
   "execution_count": null,
   "id": "aa8f7628",
   "metadata": {},
   "outputs": [],
   "source": [
    "link_recetas[1850:]"
   ]
  },
  {
   "cell_type": "code",
   "execution_count": null,
   "id": "a6c5bc89",
   "metadata": {},
   "outputs": [],
   "source": [
    "r=Parallel(n_jobs = 6, verbose = True)(delayed(recetas)(url) for url in link_recetas[1850:])"
   ]
  },
  {
   "cell_type": "code",
   "execution_count": null,
   "id": "af234d91",
   "metadata": {},
   "outputs": [],
   "source": [
    "r"
   ]
  },
  {
   "cell_type": "code",
   "execution_count": null,
   "id": "8b113cb5",
   "metadata": {},
   "outputs": [],
   "source": [
    "carahuevo=carahuevo.append(r)"
   ]
  },
  {
   "cell_type": "code",
   "execution_count": null,
   "id": "194ff1df",
   "metadata": {},
   "outputs": [],
   "source": [
    "carahuevo"
   ]
  },
  {
   "cell_type": "markdown",
   "id": "8caac38b",
   "metadata": {},
   "source": [
    "### Creamos un archivo.csv para guardar todos los datos"
   ]
  },
  {
   "cell_type": "code",
   "execution_count": null,
   "id": "28d013de",
   "metadata": {},
   "outputs": [],
   "source": [
    "carahuevo.to_csv('recetas_terminado.csv', index=False)"
   ]
  }
 ],
 "metadata": {
  "kernelspec": {
   "display_name": "Python 3 (ipykernel)",
   "language": "python",
   "name": "python3"
  },
  "language_info": {
   "codemirror_mode": {
    "name": "ipython",
    "version": 3
   },
   "file_extension": ".py",
   "mimetype": "text/x-python",
   "name": "python",
   "nbconvert_exporter": "python",
   "pygments_lexer": "ipython3",
   "version": "3.9.12"
  }
 },
 "nbformat": 4,
 "nbformat_minor": 5
}
